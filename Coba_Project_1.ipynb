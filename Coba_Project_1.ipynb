{
 "cells": [
  {
   "cell_type": "code",
   "execution_count": null,
   "metadata": {},
   "outputs": [],
   "source": [
    "#Importing the dependecies \n",
    "#!conda install --yes basemap \n",
    "from mpl_toolkits.basemap import Basemap\n",
    "import matplotlib.pyplot as plt\n",
    "import pandas as pd\n",
    "import numpy as np\n",
    "%matplotlib inline\n",
    "from citipy import citipy\n"
   ]
  },
  {
   "cell_type": "code",
   "execution_count": null,
   "metadata": {},
   "outputs": [],
   "source": [
    "# Loading the file\n",
    "file = \"meteorite-landings.csv\"\n",
    "\n",
    "# Reading the meteor csv data file \n",
    "meteor = pd.read_csv(file)\n",
    "\n",
    "\n",
    "# Displaying the data table for preview\n",
    "meteor.head(5)\n"
   ]
  },
  {
   "cell_type": "code",
   "execution_count": null,
   "metadata": {},
   "outputs": [],
   "source": [
    "meteor = meteor.rename(columns ={\"recclass\": \"type\", \"fall\": \"discovery\", \"nametype\": \"appearance\", \"reclat\": \"lat\", \"reclong\": \"long\", \"GeoLocation\": \"coordinates\"})\n",
    "\n",
    "meteor.head()"
   ]
  },
  {
   "cell_type": "code",
   "execution_count": null,
   "metadata": {},
   "outputs": [],
   "source": [
    "#Dropping some unecessary columns \n",
    "meteor = meteor.drop(columns = [\"id\", \"coordinates\"])\n",
    "meteor.head()"
   ]
  },
  {
   "cell_type": "code",
   "execution_count": null,
   "metadata": {},
   "outputs": [],
   "source": [
    "# lon_0, lat_0 are the center point of the projection.\n",
    "# resolution = 'l' means use low resolution coastlines.\n",
    "fig = plt.figure(figsize=(16,11))\n",
    "# m = Basemap(projection='ortho',lon_0=-105,lat_0=40,resolution='l')\n",
    "m = Basemap()\n",
    "m.bluemarble(alpha=0.8)\n",
    "m.drawcoastlines(color=\"#555566\", linewidth=1)\n",
    "plt.scatter(meteor['long'], meteor['lat'], c='red', marker='.', alpha=0.5)\n",
    "# m.drawcoastlines()\n",
    "# m.fillcontinents(color='coral',lake_color='aqua')\n",
    "# #draw parallels and meridians.\n",
    "# m.drawparallels(np.arange(-90.,120.,30.))\n",
    "# m.drawmeridians(np.arange(0.,420.,60.))\n",
    "# m.drawmapboundary(fill_color='aqua')\n",
    "plt.title(\"Full Disk Orthographic Projection\")"
   ]
  },
  {
   "cell_type": "code",
   "execution_count": null,
   "metadata": {},
   "outputs": [],
   "source": [
    "plt.scatter(meteor[\"mass\"], meteor[\"year\"])\n",
    "plt.xlim([0.1,1e8])\n",
    "plt.ylim([1700,2020])\n",
    "plt.xscale('log')\n",
    "plt.show()"
   ]
  },
  {
   "cell_type": "code",
   "execution_count": null,
   "metadata": {},
   "outputs": [],
   "source": [
    "n_types = meteor['type'].unique().size\n",
    "print(f'There are {n_types} unique meteor types.')"
   ]
  },
  {
   "cell_type": "code",
   "execution_count": null,
   "metadata": {},
   "outputs": [],
   "source": [
    "# Look at one specific type\n",
    "meteor_type = \"Martian (nakhlite)\"\n",
    "L5 = meteor.loc[meteor['type'] == meteor_type]\n",
    "# lon_0, lat_0 are the center point of the projection.\n",
    "# resolution = 'l' means use low resolution coastlines.\n",
    "fig = plt.figure(figsize=(16,11))\n",
    "# m = Basemap(projection='ortho',lon_0=-105,lat_0=40,resolution='l')\n",
    "m = Basemap()\n",
    "m.bluemarble(alpha=0.8)\n",
    "m.drawcoastlines(color=\"#555566\", linewidth=1)\n",
    "plt.scatter(L5['long'], L5['lat'], c='red', marker='.', alpha=0.5)\n",
    "# m.drawcoastlines()\n",
    "# m.fillcontinents(color='coral',lake_color='aqua')\n",
    "# #draw parallels and meridians.\n",
    "# m.drawparallels(np.arange(-90.,120.,30.))\n",
    "# m.drawmeridians(np.arange(0.,420.,60.))\n",
    "# m.drawmapboundary(fill_color='aqua')\n",
    "plt.title(f\"Meteor Type {meteor_type}\")"
   ]
  }
 ],
 "metadata": {
  "kernelspec": {
   "display_name": "Python 3",
   "language": "python",
   "name": "python3"
  },
  "language_info": {
   "codemirror_mode": {
    "name": "ipython",
    "version": 3
   },
   "file_extension": ".py",
   "mimetype": "text/x-python",
   "name": "python",
   "nbconvert_exporter": "python",
   "pygments_lexer": "ipython3",
   "version": "3.6.5"
  }
 },
 "nbformat": 4,
 "nbformat_minor": 2
}
